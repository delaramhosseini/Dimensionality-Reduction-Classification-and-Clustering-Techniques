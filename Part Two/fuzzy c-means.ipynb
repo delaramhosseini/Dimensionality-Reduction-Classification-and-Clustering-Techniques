{
  "cells": [
    {
      "cell_type": "code",
      "execution_count": null,
      "metadata": {
        "id": "cMtfGVTPNQ3A"
      },
      "outputs": [],
      "source": [
        "import numpy as np\n",
        "from fcmeans import FCM\n",
        "from matplotlib import pyplot as plt"
      ]
    },
    {
      "cell_type": "code",
      "execution_count": null,
      "metadata": {
        "colab": {
          "base_uri": "https://localhost:8080/"
        },
        "id": "Xs3jvuBxMigE",
        "outputId": "ecbefc02-c9c4-4ad8-e321-613080b28572"
      },
      "outputs": [],
      "source": [
        "import pandas\n",
        "x = pandas.read_csv('first_clustering_dataset.csv')\n",
        "x.info"
      ]
    },
    {
      "cell_type": "code",
      "execution_count": null,
      "metadata": {
        "colab": {
          "base_uri": "https://localhost:8080/",
          "height": 501
        },
        "id": "KhxKt5bONZ3T",
        "outputId": "ded71008-2b6d-482a-f31d-2db697b936f6"
      },
      "outputs": [],
      "source": [
        "fcm = FCM(n_clusters=1)\n",
        "fcm.fit(x)"
      ]
    },
    {
      "cell_type": "code",
      "execution_count": null,
      "metadata": {
        "colab": {
          "base_uri": "https://localhost:8080/",
          "height": 380
        },
        "id": "4G7z-9DCPp2E",
        "outputId": "3a4249f4-33df-457f-e3eb-d5374dd44ee8"
      },
      "outputs": [],
      "source": [
        "fcm_centers = fcm.centers\n",
        "fcm_labels = fcm.predict(x)\n",
        "\n",
        "f, axes = plt.subplots(1, 2, figsize=(11,5))\n",
        "axes[0].scatter(x[:,0], x[:,1], alpha=.1)\n",
        "axes[1].scatter(x[:,0], x[:,1], c=fcm_labels, alpha=.1)\n",
        "axes[1].scatter(fcm_centers[:,0], fcm_centers[:,1], marker=\"+\", s=500, c='w')\n",
        "plt.show()\n"
      ]
    },
    {
      "cell_type": "code",
      "execution_count": null,
      "metadata": {
        "id": "Gw9H1avKM7e4"
      },
      "outputs": [],
      "source": [
        "y = pandas.read_csv('second_clustering_dataset.csv')\n",
        "y.info"
      ]
    },
    {
      "cell_type": "code",
      "execution_count": null,
      "metadata": {
        "id": "yE8iS5S-NFD-"
      },
      "outputs": [],
      "source": [
        "z = pandas.read_csv('third_clustering_dataset.csv')\n",
        "z.info"
      ]
    }
  ],
  "metadata": {
    "colab": {
      "name": "Untitled6.ipynb",
      "provenance": []
    },
    "kernelspec": {
      "display_name": "Python 3",
      "name": "python3"
    },
    "language_info": {
      "codemirror_mode": {
        "name": "ipython",
        "version": 3
      },
      "file_extension": ".py",
      "mimetype": "text/x-python",
      "name": "python",
      "nbconvert_exporter": "python",
      "pygments_lexer": "ipython3",
      "version": "3.11.8"
    }
  },
  "nbformat": 4,
  "nbformat_minor": 0
}
